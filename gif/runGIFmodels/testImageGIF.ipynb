{
 "cells": [
  {
   "cell_type": "code",
   "execution_count": 1,
   "id": "f7454710-85db-4892-90b1-cde7d3dcb04e",
   "metadata": {
    "scrolled": true
   },
   "outputs": [
    {
     "name": "stdout",
     "output_type": "stream",
     "text": [
      "Requirement already satisfied: opencv-python in /opt/conda/lib/python3.11/site-packages (4.9.0.80)\n",
      "Requirement already satisfied: transformers in /opt/conda/lib/python3.11/site-packages (4.40.1)\n",
      "Requirement already satisfied: numpy>=1.21.2 in /opt/conda/lib/python3.11/site-packages (from opencv-python) (1.26.4)\n",
      "Requirement already satisfied: filelock in /opt/conda/lib/python3.11/site-packages (from transformers) (3.13.1)\n",
      "Requirement already satisfied: huggingface-hub<1.0,>=0.19.3 in /opt/conda/lib/python3.11/site-packages (from transformers) (0.23.0)\n",
      "Requirement already satisfied: packaging>=20.0 in /opt/conda/lib/python3.11/site-packages (from transformers) (23.2)\n",
      "Requirement already satisfied: pyyaml>=5.1 in /opt/conda/lib/python3.11/site-packages (from transformers) (6.0.1)\n",
      "Requirement already satisfied: regex!=2019.12.17 in /opt/conda/lib/python3.11/site-packages (from transformers) (2024.4.28)\n",
      "Requirement already satisfied: requests in /opt/conda/lib/python3.11/site-packages (from transformers) (2.31.0)\n",
      "Requirement already satisfied: tokenizers<0.20,>=0.19 in /opt/conda/lib/python3.11/site-packages (from transformers) (0.19.1)\n",
      "Requirement already satisfied: safetensors>=0.4.1 in /opt/conda/lib/python3.11/site-packages (from transformers) (0.4.3)\n",
      "Requirement already satisfied: tqdm>=4.27 in /opt/conda/lib/python3.11/site-packages (from transformers) (4.66.2)\n",
      "Requirement already satisfied: fsspec>=2023.5.0 in /opt/conda/lib/python3.11/site-packages (from huggingface-hub<1.0,>=0.19.3->transformers) (2024.2.0)\n",
      "Requirement already satisfied: typing-extensions>=3.7.4.3 in /opt/conda/lib/python3.11/site-packages (from huggingface-hub<1.0,>=0.19.3->transformers) (4.9.0)\n",
      "Requirement already satisfied: charset-normalizer<4,>=2 in /opt/conda/lib/python3.11/site-packages (from requests->transformers) (3.3.2)\n",
      "Requirement already satisfied: idna<4,>=2.5 in /opt/conda/lib/python3.11/site-packages (from requests->transformers) (3.6)\n",
      "Requirement already satisfied: urllib3<3,>=1.21.1 in /opt/conda/lib/python3.11/site-packages (from requests->transformers) (2.2.1)\n",
      "Requirement already satisfied: certifi>=2017.4.17 in /opt/conda/lib/python3.11/site-packages (from requests->transformers) (2024.2.2)\n"
     ]
    }
   ],
   "source": [
    "import utils\n",
    "\n",
    "import numpy as np\n",
    "import torch\n",
    "import torch.nn as nn\n",
    "import torch.optim as optim\n",
    "from torch.utils.data import DataLoader\n",
    "from torchvision.models import vgg16, resnet50\n",
    "from typing import Tuple, List, Dict, Any\n",
    "\n",
    "seed = 42\n",
    "AMOUNT_OF_FRAMES = 40"
   ]
  },
  {
   "cell_type": "code",
   "execution_count": 2,
   "id": "a01cc204-b675-4210-b966-80c7e2b685f0",
   "metadata": {},
   "outputs": [
    {
     "name": "stdout",
     "output_type": "stream",
     "text": [
      "Name\t\t ids labels groups\n",
      "--------------------------------------\n",
      "Train: \t\t 111 111 111\n",
      "Validation: \t 28 28 28\n",
      "--------------------------------------\n",
      "Name distribution:\t YES - NO\n",
      "Original distribution:\t 0.2949640287769784 - 0.7050359712230215\n",
      "Train distribution:\t 0.2972972972972973 - 0.7027027027027027\n",
      "Val distribution:\t 0.2857142857142857 - 0.7142857142857143\n",
      "--------------------------------------\n",
      "Succesfully saved at /project_ghent/Master-Thesis/gif/pickled/ with skipframes = 1 []\n"
     ]
    }
   ],
   "source": [
    "path2data = \"/project_ghent/Master-Thesis/gif/data\"\n",
    "\n",
    "SKIP_FRAMES = 1\n",
    "\n",
    "ids, labels, groups, catgs = utils.get_vids(path2data)\n",
    "utils.split_dataset(ids, labels, groups, skipframes=SKIP_FRAMES)"
   ]
  },
  {
   "cell_type": "code",
   "execution_count": 3,
   "id": "ef52dcc7-449e-4013-b63d-4e26a8fcadda",
   "metadata": {},
   "outputs": [
    {
     "name": "stdout",
     "output_type": "stream",
     "text": [
      "Succesfully retrieved at /project_ghent/Master-Thesis/gif/pickled/ with skipframes = 1 []\n"
     ]
    }
   ],
   "source": [
    "SKIP_FRAMES = 1\n",
    "train_ds, val_ds = utils.get_dataset(skipframes=SKIP_FRAMES)"
   ]
  },
  {
   "cell_type": "code",
   "execution_count": 4,
   "id": "5d453461-cde7-4055-8d3d-2590db7dc238",
   "metadata": {},
   "outputs": [
    {
     "data": {
      "text/plain": [
       "torch.Size([40, 3, 224, 224])"
      ]
     },
     "execution_count": 4,
     "metadata": {},
     "output_type": "execute_result"
    }
   ],
   "source": [
    "train_ds[0][0].shape"
   ]
  },
  {
   "cell_type": "code",
   "execution_count": null,
   "id": "0fe0253f-8a7b-435a-9980-b2739f8a4ea6",
   "metadata": {},
   "outputs": [],
   "source": []
  }
 ],
 "metadata": {
  "kernelspec": {
   "display_name": "Python 3 (ipykernel)",
   "language": "python",
   "name": "python3"
  },
  "language_info": {
   "codemirror_mode": {
    "name": "ipython",
    "version": 3
   },
   "file_extension": ".py",
   "mimetype": "text/x-python",
   "name": "python",
   "nbconvert_exporter": "python",
   "pygments_lexer": "ipython3",
   "version": "3.11.8"
  }
 },
 "nbformat": 4,
 "nbformat_minor": 5
}
