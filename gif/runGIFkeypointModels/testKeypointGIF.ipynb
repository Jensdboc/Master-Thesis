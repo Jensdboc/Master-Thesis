{
 "cells": [
  {
   "cell_type": "code",
   "execution_count": 3,
   "id": "f7454710-85db-4892-90b1-cde7d3dcb04e",
   "metadata": {
    "scrolled": true
   },
   "outputs": [],
   "source": [
    "import utils\n",
    "\n",
    "import numpy as np\n",
    "import torch\n",
    "import torch.nn as nn\n",
    "import torch.optim as optim\n",
    "from torch.utils.data import DataLoader\n",
    "from torchvision.models import vgg16, resnet50\n",
    "from typing import Tuple, List, Dict, Any\n",
    "\n",
    "seed = 42\n",
    "AMOUNT_OF_FRAMES = 40"
   ]
  },
  {
   "cell_type": "code",
   "execution_count": 4,
   "id": "a01cc204-b675-4210-b966-80c7e2b685f0",
   "metadata": {},
   "outputs": [
    {
     "name": "stdout",
     "output_type": "stream",
     "text": [
      "Name\t\t ids labels groups\n",
      "--------------------------------------\n",
      "Train: \t\t 75 75 75\n",
      "Validation: \t 19 19 19\n",
      "--------------------------------------\n",
      "Name distribution:\t YES - NO\n",
      "Original distribution:\t 0.2872340425531915 - 0.7127659574468085\n",
      "Train distribution:\t 0.29333333333333333 - 0.7066666666666667\n",
      "Val distribution:\t 0.2631578947368421 - 0.7368421052631579\n",
      "--------------------------------------\n",
      "Succesfully saved at /project_ghent/Master-Thesis/gif/pickled/ with skipframes = 1 []\n"
     ]
    }
   ],
   "source": [
    "path2data = \"/project_ghent/Master-Thesis/gif/keypoints\"\n",
    "\n",
    "SKIP_FRAMES = 1\n",
    "\n",
    "ids, labels, groups, catgs = utils.get_vids(path2data)\n",
    "utils.split_dataset(ids, labels, groups, skipframes=SKIP_FRAMES)"
   ]
  },
  {
   "cell_type": "code",
   "execution_count": 3,
   "id": "ef52dcc7-449e-4013-b63d-4e26a8fcadda",
   "metadata": {},
   "outputs": [
    {
     "name": "stdout",
     "output_type": "stream",
     "text": [
      "Succesfully retrieved at /project_ghent/Master-Thesis/gif/pickled/ with skipframes = 1 []\n"
     ]
    }
   ],
   "source": [
    "SKIP_FRAMES = 1\n",
    "train_ds, val_ds = utils.get_dataset(skipframes=SKIP_FRAMES)"
   ]
  },
  {
   "cell_type": "code",
   "execution_count": 4,
   "id": "5d453461-cde7-4055-8d3d-2590db7dc238",
   "metadata": {},
   "outputs": [
    {
     "data": {
      "text/plain": [
       "torch.Size([40, 936])"
      ]
     },
     "execution_count": 4,
     "metadata": {},
     "output_type": "execute_result"
    }
   ],
   "source": [
    "train_ds[0][0].shape"
   ]
  },
  {
   "cell_type": "code",
   "execution_count": null,
   "id": "2f19c68b-f315-4924-ac50-cec4d463257e",
   "metadata": {},
   "outputs": [],
   "source": []
  }
 ],
 "metadata": {
  "kernelspec": {
   "display_name": "Python 3 (ipykernel)",
   "language": "python",
   "name": "python3"
  },
  "language_info": {
   "codemirror_mode": {
    "name": "ipython",
    "version": 3
   },
   "file_extension": ".py",
   "mimetype": "text/x-python",
   "name": "python",
   "nbconvert_exporter": "python",
   "pygments_lexer": "ipython3",
   "version": "3.11.8"
  }
 },
 "nbformat": 4,
 "nbformat_minor": 5
}
